{
 "cells": [
  {
   "cell_type": "code",
   "execution_count": null,
   "id": "a3849bd9-9b83-4637-8cfe-7840824b2411",
   "metadata": {},
   "outputs": [
    {
     "name": "stdout",
     "output_type": "stream",
     "text": [
      "Server is listening for connections...\n"
     ]
    }
   ],
   "source": [
    "import socket\n",
    "\n",
    "server_socket = socket.socket(socket.AF_INET, socket.SOCK_STREAM)\n",
    "\n",
    "server_address = ('localhost', 12348)\n",
    "server_socket.bind(server_address)\n",
    "\n",
    "server_socket.listen(1)\n",
    "print(\"Server is listening for connections...\")\n",
    "\n",
    "while True:\n",
    "    connection, client_address = server_socket.accept()\n",
    "    print(f\"Connection from {client_address}\")\n",
    "\n",
    "    connection.sendall(b\"Welcome to the server!\")\n",
    "\n",
    "    connection.close()"
   ]
  }
 ],
 "metadata": {
  "kernelspec": {
   "display_name": "Python 3 (ipykernel)",
   "language": "python",
   "name": "python3"
  },
  "language_info": {
   "codemirror_mode": {
    "name": "ipython",
    "version": 3
   },
   "file_extension": ".py",
   "mimetype": "text/x-python",
   "name": "python",
   "nbconvert_exporter": "python",
   "pygments_lexer": "ipython3",
   "version": "3.11.5"
  }
 },
 "nbformat": 4,
 "nbformat_minor": 5
}
